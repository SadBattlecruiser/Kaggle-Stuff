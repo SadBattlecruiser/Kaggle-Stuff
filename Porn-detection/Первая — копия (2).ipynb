{
 "cells": [
  {
   "cell_type": "code",
   "execution_count": 1,
   "metadata": {
    "scrolled": true
   },
   "outputs": [
    {
     "name": "stdout",
     "output_type": "stream",
     "text": [
      "            id                        url  \\\n",
      "0            0                    m.kp.md   \n",
      "1            1                  www.kp.by   \n",
      "2            2              fanserials.tv   \n",
      "3            3            colorbox.spb.ru   \n",
      "4            4              tula-sport.ru   \n",
      "...        ...                        ...   \n",
      "135304  135304                    mail.ru   \n",
      "135305  135305                 www.ntv.ru   \n",
      "135306  135306  topclassiccarsforsale.com   \n",
      "135307  135307                wowcream.ru   \n",
      "135308  135308                 www.ubu.ru   \n",
      "\n",
      "                                                    title  target  \n",
      "0       Экс-министр экономики Молдовы - главе МИДЭИ, ц...   False  \n",
      "1       Эта песня стала известна многим телезрителям б...   False  \n",
      "2       Банши 4 сезон 2 серия Бремя красоты смотреть о...   False  \n",
      "3                                   Не Беси Меня Картинки   False  \n",
      "4       В Новомосковске сыграют следж-хоккеисты алекси...   False  \n",
      "...                                                   ...     ...  \n",
      "135304  пора тюльпанов турецкий сериал на русском язык...   False  \n",
      "135305  Остросюжетный сериал «Шеф. Игра на повышение»....   False  \n",
      "135306  1941 Plymouth Special Deluxe Hot Rod, Automati...   False  \n",
      "135307  Купить It's Skin Сыворотка питательная Power 1...   False  \n",
      "135308  Технический спирт в канистрах и флаконах, купи...   False  \n",
      "\n",
      "[135309 rows x 4 columns]\n"
     ]
    }
   ],
   "source": [
    "import numpy as np\n",
    "import pandas as pd\n",
    "import matplotlib.pyplot as plt\n",
    "from sklearn.model_selection import train_test_split\n",
    "from sklearn.metrics import f1_score\n",
    "from sklearn.linear_model import LogisticRegression\n",
    "from sklearn.ensemble import RandomForestClassifier\n",
    "\n",
    "train_df = pd.read_csv('train.csv')\n",
    "#train_df.head()\n",
    "print(train_df)"
   ]
  },
  {
   "cell_type": "code",
   "execution_count": 2,
   "metadata": {
    "scrolled": false
   },
   "outputs": [
    {
     "data": {
      "text/html": [
       "<div>\n",
       "<style scoped>\n",
       "    .dataframe tbody tr th:only-of-type {\n",
       "        vertical-align: middle;\n",
       "    }\n",
       "\n",
       "    .dataframe tbody tr th {\n",
       "        vertical-align: top;\n",
       "    }\n",
       "\n",
       "    .dataframe thead th {\n",
       "        text-align: right;\n",
       "    }\n",
       "</style>\n",
       "<table border=\"1\" class=\"dataframe\">\n",
       "  <thead>\n",
       "    <tr style=\"text-align: right;\">\n",
       "      <th></th>\n",
       "      <th>id</th>\n",
       "      <th>url</th>\n",
       "      <th>title</th>\n",
       "    </tr>\n",
       "  </thead>\n",
       "  <tbody>\n",
       "    <tr>\n",
       "      <th>0</th>\n",
       "      <td>135309</td>\n",
       "      <td>www.kommersant.ru</td>\n",
       "      <td>Шестой кассационный суд в Самаре начнет работу...</td>\n",
       "    </tr>\n",
       "    <tr>\n",
       "      <th>1</th>\n",
       "      <td>135310</td>\n",
       "      <td>urexpert.online</td>\n",
       "      <td>Что такое индексация алиментов, кем и в каких ...</td>\n",
       "    </tr>\n",
       "    <tr>\n",
       "      <th>2</th>\n",
       "      <td>135311</td>\n",
       "      <td>imperimeha.ru</td>\n",
       "      <td>Женщинам | Империя Меха - Part 12</td>\n",
       "    </tr>\n",
       "    <tr>\n",
       "      <th>3</th>\n",
       "      <td>135312</td>\n",
       "      <td>national-porn.com</td>\n",
       "      <td>Небритые, волосатые киски: Порно всех стран и ...</td>\n",
       "    </tr>\n",
       "    <tr>\n",
       "      <th>4</th>\n",
       "      <td>135313</td>\n",
       "      <td>2gis.ru</td>\n",
       "      <td>67</td>\n",
       "    </tr>\n",
       "  </tbody>\n",
       "</table>\n",
       "</div>"
      ],
      "text/plain": [
       "       id                url  \\\n",
       "0  135309  www.kommersant.ru   \n",
       "1  135310    urexpert.online   \n",
       "2  135311      imperimeha.ru   \n",
       "3  135312  national-porn.com   \n",
       "4  135313            2gis.ru   \n",
       "\n",
       "                                               title  \n",
       "0  Шестой кассационный суд в Самаре начнет работу...  \n",
       "1  Что такое индексация алиментов, кем и в каких ...  \n",
       "2                  Женщинам | Империя Меха - Part 12  \n",
       "3  Небритые, волосатые киски: Порно всех стран и ...  \n",
       "4                                                 67  "
      ]
     },
     "execution_count": 2,
     "metadata": {},
     "output_type": "execute_result"
    }
   ],
   "source": [
    "test_df = pd.read_csv(\"test.csv\")\n",
    "test_df.head()"
   ]
  },
  {
   "cell_type": "code",
   "execution_count": 3,
   "metadata": {},
   "outputs": [
    {
     "data": {
      "text/plain": [
       "False    118594\n",
       "True      16715\n",
       "Name: target, dtype: int64"
      ]
     },
     "execution_count": 3,
     "metadata": {},
     "output_type": "execute_result"
    }
   ],
   "source": [
    "train_df['target'].value_counts()"
   ]
  },
  {
   "cell_type": "code",
   "execution_count": 4,
   "metadata": {},
   "outputs": [
    {
     "name": "stdout",
     "output_type": "stream",
     "text": [
      "mail.ru                    7900\n",
      "baza.drom.ru               1042\n",
      "www.olx.ua                  945\n",
      "irecommend.ru               767\n",
      "daftsex.com                 741\n",
      "                           ... \n",
      "schalarmisli.ga               1\n",
      "specm-group.ru                1\n",
      "cxema.my1.ru                  1\n",
      "www.culturavrn.ru             1\n",
      "desenhosparacolorir.xyz       1\n",
      "Name: url, Length: 40391, dtype: int64\n"
     ]
    }
   ],
   "source": [
    "# Поглядим, какие есть уникальные url\n",
    "unique_urls = train_df['url'].value_counts()\n",
    "print(unique_urls)"
   ]
  },
  {
   "cell_type": "code",
   "execution_count": 5,
   "metadata": {},
   "outputs": [
    {
     "name": "stdout",
     "output_type": "stream",
     "text": [
      "                             url  pos_ratio  neg_ratio   num  pos_sigm  \\\n",
      "0                        mail.ru   0.016203   0.983797  7900  0.016203   \n",
      "1                   baza.drom.ru   0.000000   1.000000  1042  0.000000   \n",
      "2                     www.olx.ua   0.000000   1.000000   945  0.000000   \n",
      "3                  irecommend.ru   0.000000   1.000000   767  0.000000   \n",
      "4                    daftsex.com   1.000000   0.000000   741  1.000000   \n",
      "...                          ...        ...        ...   ...       ...   \n",
      "40386  dalnerechensk.bankiros.ru   0.000000   1.000000     1  0.000000   \n",
      "40387               whatname.net   0.000000   1.000000     1  0.000000   \n",
      "40388            makulatura57.ru   0.000000   1.000000     1  0.000000   \n",
      "40389      www.chirana-russia.ru   0.000000   1.000000     1  0.000000   \n",
      "40390               kam.kam24.ru   0.000000   1.000000     1  0.000000   \n",
      "\n",
      "       neg_sigm  \n",
      "0      0.983797  \n",
      "1      1.000000  \n",
      "2      1.000000  \n",
      "3      1.000000  \n",
      "4      0.000000  \n",
      "...         ...  \n",
      "40386  0.090557  \n",
      "40387  0.090557  \n",
      "40388  0.090557  \n",
      "40389  0.090557  \n",
      "40390  0.090557  \n",
      "\n",
      "[40391 rows x 6 columns]\n"
     ]
    }
   ],
   "source": [
    "# Для каждого рассчитываем процент положительных и отрицательных\n",
    "\n",
    "# freq_urls = unique_urls[unique_urls > 10]\n",
    "# freq_urls = unique_urls\n",
    "# urls = []\n",
    "# pos_ratios = []\n",
    "# neg_ratios = []\n",
    "# nums = []\n",
    "# for url_i in freq_urls.index:\n",
    "#     idxs = train_df['url'] == url_i\n",
    "#     targets = train_df[idxs]['target']\n",
    "#     n_true = targets[targets == 1].size\n",
    "#     urls.append(url_i)\n",
    "#     pos_ratios.append(n_true/targets.size)\n",
    "#     neg_ratios.append(1 - n_true/targets.size)\n",
    "#     nums.append(targets.size)\n",
    "\n",
    "# url_info_df = pd.DataFrame({'url' : urls, 'pos_ratio' : pos_ratios, 'neg_ratio' : neg_ratios, 'num' : nums})\n",
    "# url_info_df.to_csv('url_info.csv', index=False)\n",
    "url_info_df = pd.read_csv('url_info.csv')\n",
    "\n",
    "# А теперь вводим метрики, учитывающие количество появлений url\n",
    "# Для этого будем умножать на сигмоиды\n",
    "pos_sigm = url_info_df['pos_ratio'] * 1/(1 + 0.5*np.exp(-(url_info_df['num'] - 4)))\n",
    "neg_sigm = url_info_df['neg_ratio'] * 1/(1 + 0.5*np.exp(-(url_info_df['num'] - 4)))\n",
    "url_info_df['pos_sigm'] = pos_sigm\n",
    "url_info_df['neg_sigm'] = neg_sigm\n",
    "print(url_info_df)"
   ]
  },
  {
   "cell_type": "code",
   "execution_count": 6,
   "metadata": {},
   "outputs": [
    {
     "data": {
      "image/png": "[encoded data removed]",
      "text/plain": [
       "<Figure size 432x288 with 1 Axes>"
      ]
     },
     "metadata": {
      "needs_background": "light"
     },
     "output_type": "display_data"
    },
    {
     "name": "stdout",
     "output_type": "stream",
     "text": [
      "0.0353368440280961\n"
     ]
    }
   ],
   "source": [
    "# Если что, вот эта сигмоида\n",
    "x = np.linspace(-10, 10, 100)\n",
    "coef = 0.5\n",
    "sigm = 1/(1 + coef*np.exp(-(x - 4)))\n",
    "plt.plot(x, sigm) \n",
    "plt.xlabel(\"x\") \n",
    "plt.ylabel(\"Sigmoid(X)\")\n",
    "  \n",
    "plt.show()\n",
    "print(1/(1 + coef*np.exp(4)))"
   ]
  },
  {
   "cell_type": "code",
   "execution_count": 7,
   "metadata": {},
   "outputs": [
    {
     "data": {
      "text/html": [
       "<div>\n",
       "<style scoped>\n",
       "    .dataframe tbody tr th:only-of-type {\n",
       "        vertical-align: middle;\n",
       "    }\n",
       "\n",
       "    .dataframe tbody tr th {\n",
       "        vertical-align: top;\n",
       "    }\n",
       "\n",
       "    .dataframe thead th {\n",
       "        text-align: right;\n",
       "    }\n",
       "</style>\n",
       "<table border=\"1\" class=\"dataframe\">\n",
       "  <thead>\n",
       "    <tr style=\"text-align: right;\">\n",
       "      <th></th>\n",
       "      <th>id</th>\n",
       "      <th>url</th>\n",
       "      <th>title</th>\n",
       "      <th>pos_ratio</th>\n",
       "      <th>neg_ratio</th>\n",
       "      <th>num</th>\n",
       "      <th>pos_sigm</th>\n",
       "      <th>neg_sigm</th>\n",
       "    </tr>\n",
       "  </thead>\n",
       "  <tbody>\n",
       "    <tr>\n",
       "      <th>0</th>\n",
       "      <td>135309</td>\n",
       "      <td>www.kommersant.ru</td>\n",
       "      <td>Шестой кассационный суд в Самаре начнет работу...</td>\n",
       "      <td>0.0</td>\n",
       "      <td>1.0</td>\n",
       "      <td>10.0</td>\n",
       "      <td>0.000000</td>\n",
       "      <td>0.998762</td>\n",
       "    </tr>\n",
       "    <tr>\n",
       "      <th>1</th>\n",
       "      <td>135310</td>\n",
       "      <td>urexpert.online</td>\n",
       "      <td>Что такое индексация алиментов, кем и в каких ...</td>\n",
       "      <td>0.0</td>\n",
       "      <td>1.0</td>\n",
       "      <td>6.0</td>\n",
       "      <td>0.000000</td>\n",
       "      <td>0.936621</td>\n",
       "    </tr>\n",
       "    <tr>\n",
       "      <th>2</th>\n",
       "      <td>135311</td>\n",
       "      <td>imperimeha.ru</td>\n",
       "      <td>Женщинам | Империя Меха - Part 12</td>\n",
       "      <td>0.0</td>\n",
       "      <td>0.0</td>\n",
       "      <td>0.0</td>\n",
       "      <td>0.000000</td>\n",
       "      <td>0.000000</td>\n",
       "    </tr>\n",
       "    <tr>\n",
       "      <th>3</th>\n",
       "      <td>135312</td>\n",
       "      <td>national-porn.com</td>\n",
       "      <td>Небритые, волосатые киски: Порно всех стран и ...</td>\n",
       "      <td>1.0</td>\n",
       "      <td>0.0</td>\n",
       "      <td>1.0</td>\n",
       "      <td>0.090557</td>\n",
       "      <td>0.000000</td>\n",
       "    </tr>\n",
       "    <tr>\n",
       "      <th>4</th>\n",
       "      <td>135313</td>\n",
       "      <td>2gis.ru</td>\n",
       "      <td>67</td>\n",
       "      <td>0.0</td>\n",
       "      <td>1.0</td>\n",
       "      <td>75.0</td>\n",
       "      <td>0.000000</td>\n",
       "      <td>1.000000</td>\n",
       "    </tr>\n",
       "  </tbody>\n",
       "</table>\n",
       "</div>"
      ],
      "text/plain": [
       "       id                url  \\\n",
       "0  135309  www.kommersant.ru   \n",
       "1  135310    urexpert.online   \n",
       "2  135311      imperimeha.ru   \n",
       "3  135312  national-porn.com   \n",
       "4  135313            2gis.ru   \n",
       "\n",
       "                                               title  pos_ratio  neg_ratio  \\\n",
       "0  Шестой кассационный суд в Самаре начнет работу...        0.0        1.0   \n",
       "1  Что такое индексация алиментов, кем и в каких ...        0.0        1.0   \n",
       "2                  Женщинам | Империя Меха - Part 12        0.0        0.0   \n",
       "3  Небритые, волосатые киски: Порно всех стран и ...        1.0        0.0   \n",
       "4                                                 67        0.0        1.0   \n",
       "\n",
       "    num  pos_sigm  neg_sigm  \n",
       "0  10.0  0.000000  0.998762  \n",
       "1   6.0  0.000000  0.936621  \n",
       "2   0.0  0.000000  0.000000  \n",
       "3   1.0  0.090557  0.000000  \n",
       "4  75.0  0.000000  1.000000  "
      ]
     },
     "execution_count": 7,
     "metadata": {},
     "output_type": "execute_result"
    }
   ],
   "source": [
    "# Добавляем эти сигмоидные метрики в датафреймы\n",
    "train_df_m = pd.merge(train_df, url_info_df, how='left',on=['url'])\n",
    "test_df_m = pd.merge(test_df, url_info_df, how='left',on=['url'])\n",
    "# Если такого url в test не было в train -- просто обнуляем\n",
    "test_df_m = test_df_m.fillna(value=0.)\n",
    "test_df_m.head()\n"
   ]
  },
  {
   "cell_type": "code",
   "execution_count": 8,
   "metadata": {},
   "outputs": [
    {
     "data": {
      "text/html": [
       "<div>\n",
       "<style scoped>\n",
       "    .dataframe tbody tr th:only-of-type {\n",
       "        vertical-align: middle;\n",
       "    }\n",
       "\n",
       "    .dataframe tbody tr th {\n",
       "        vertical-align: top;\n",
       "    }\n",
       "\n",
       "    .dataframe thead th {\n",
       "        text-align: right;\n",
       "    }\n",
       "</style>\n",
       "<table border=\"1\" class=\"dataframe\">\n",
       "  <thead>\n",
       "    <tr style=\"text-align: right;\">\n",
       "      <th></th>\n",
       "      <th>id</th>\n",
       "      <th>url</th>\n",
       "      <th>title</th>\n",
       "      <th>pos_ratio</th>\n",
       "      <th>neg_ratio</th>\n",
       "      <th>num</th>\n",
       "      <th>pos_sigm</th>\n",
       "      <th>neg_sigm</th>\n",
       "    </tr>\n",
       "  </thead>\n",
       "  <tbody>\n",
       "    <tr>\n",
       "      <th>0</th>\n",
       "      <td>135309</td>\n",
       "      <td>www.kommersant.ru</td>\n",
       "      <td>шестой кассационный суд в самаре начнет работу...</td>\n",
       "      <td>0.0</td>\n",
       "      <td>1.0</td>\n",
       "      <td>10.0</td>\n",
       "      <td>0.000000</td>\n",
       "      <td>0.998762</td>\n",
       "    </tr>\n",
       "    <tr>\n",
       "      <th>1</th>\n",
       "      <td>135310</td>\n",
       "      <td>urexpert.online</td>\n",
       "      <td>что такое индексация алиментов, кем и в каких ...</td>\n",
       "      <td>0.0</td>\n",
       "      <td>1.0</td>\n",
       "      <td>6.0</td>\n",
       "      <td>0.000000</td>\n",
       "      <td>0.936621</td>\n",
       "    </tr>\n",
       "    <tr>\n",
       "      <th>2</th>\n",
       "      <td>135311</td>\n",
       "      <td>imperimeha.ru</td>\n",
       "      <td>женщинам | империя меха - part 12</td>\n",
       "      <td>0.0</td>\n",
       "      <td>0.0</td>\n",
       "      <td>0.0</td>\n",
       "      <td>0.000000</td>\n",
       "      <td>0.000000</td>\n",
       "    </tr>\n",
       "    <tr>\n",
       "      <th>3</th>\n",
       "      <td>135312</td>\n",
       "      <td>national-porn.com</td>\n",
       "      <td>небритые, волосатые киски: порно всех стран и ...</td>\n",
       "      <td>1.0</td>\n",
       "      <td>0.0</td>\n",
       "      <td>1.0</td>\n",
       "      <td>0.090557</td>\n",
       "      <td>0.000000</td>\n",
       "    </tr>\n",
       "    <tr>\n",
       "      <th>4</th>\n",
       "      <td>135313</td>\n",
       "      <td>2gis.ru</td>\n",
       "      <td>67</td>\n",
       "      <td>0.0</td>\n",
       "      <td>1.0</td>\n",
       "      <td>75.0</td>\n",
       "      <td>0.000000</td>\n",
       "      <td>1.000000</td>\n",
       "    </tr>\n",
       "  </tbody>\n",
       "</table>\n",
       "</div>"
      ],
      "text/plain": [
       "       id                url  \\\n",
       "0  135309  www.kommersant.ru   \n",
       "1  135310    urexpert.online   \n",
       "2  135311      imperimeha.ru   \n",
       "3  135312  national-porn.com   \n",
       "4  135313            2gis.ru   \n",
       "\n",
       "                                               title  pos_ratio  neg_ratio  \\\n",
       "0  шестой кассационный суд в самаре начнет работу...        0.0        1.0   \n",
       "1  что такое индексация алиментов, кем и в каких ...        0.0        1.0   \n",
       "2                  женщинам | империя меха - part 12        0.0        0.0   \n",
       "3  небритые, волосатые киски: порно всех стран и ...        1.0        0.0   \n",
       "4                                                 67        0.0        1.0   \n",
       "\n",
       "    num  pos_sigm  neg_sigm  \n",
       "0  10.0  0.000000  0.998762  \n",
       "1   6.0  0.000000  0.936621  \n",
       "2   0.0  0.000000  0.000000  \n",
       "3   1.0  0.090557  0.000000  \n",
       "4  75.0  0.000000  1.000000  "
      ]
     },
     "execution_count": 8,
     "metadata": {},
     "output_type": "execute_result"
    }
   ],
   "source": [
    "# Теперь непосредственно обрабатываем тайтлы\n",
    "# Всё в нижни регистр\n",
    "train_df_m['title'] = train_df_m['title'].str.lower()\n",
    "test_df_m['title'] = test_df_m['title'].str.lower()\n",
    "test_df_m.head()"
   ]
  },
  {
   "cell_type": "code",
   "execution_count": 9,
   "metadata": {},
   "outputs": [
    {
     "data": {
      "text/html": [
       "<div>\n",
       "<style scoped>\n",
       "    .dataframe tbody tr th:only-of-type {\n",
       "        vertical-align: middle;\n",
       "    }\n",
       "\n",
       "    .dataframe tbody tr th {\n",
       "        vertical-align: top;\n",
       "    }\n",
       "\n",
       "    .dataframe thead th {\n",
       "        text-align: right;\n",
       "    }\n",
       "</style>\n",
       "<table border=\"1\" class=\"dataframe\">\n",
       "  <thead>\n",
       "    <tr style=\"text-align: right;\">\n",
       "      <th></th>\n",
       "      <th>id</th>\n",
       "      <th>url</th>\n",
       "      <th>title</th>\n",
       "      <th>pos_ratio</th>\n",
       "      <th>neg_ratio</th>\n",
       "      <th>num</th>\n",
       "      <th>pos_sigm</th>\n",
       "      <th>neg_sigm</th>\n",
       "    </tr>\n",
       "  </thead>\n",
       "  <tbody>\n",
       "    <tr>\n",
       "      <th>0</th>\n",
       "      <td>135309</td>\n",
       "      <td>www.kommersant.ru</td>\n",
       "      <td>шестой кассационный суд в самаре начнет работу...</td>\n",
       "      <td>0.0</td>\n",
       "      <td>1.0</td>\n",
       "      <td>10.0</td>\n",
       "      <td>0.000000</td>\n",
       "      <td>0.998762</td>\n",
       "    </tr>\n",
       "    <tr>\n",
       "      <th>1</th>\n",
       "      <td>135310</td>\n",
       "      <td>urexpert.online</td>\n",
       "      <td>что такое индексация алиментов кем и в каких с...</td>\n",
       "      <td>0.0</td>\n",
       "      <td>1.0</td>\n",
       "      <td>6.0</td>\n",
       "      <td>0.000000</td>\n",
       "      <td>0.936621</td>\n",
       "    </tr>\n",
       "    <tr>\n",
       "      <th>2</th>\n",
       "      <td>135311</td>\n",
       "      <td>imperimeha.ru</td>\n",
       "      <td>женщинам  империя меха  part</td>\n",
       "      <td>0.0</td>\n",
       "      <td>0.0</td>\n",
       "      <td>0.0</td>\n",
       "      <td>0.000000</td>\n",
       "      <td>0.000000</td>\n",
       "    </tr>\n",
       "    <tr>\n",
       "      <th>3</th>\n",
       "      <td>135312</td>\n",
       "      <td>national-porn.com</td>\n",
       "      <td>небритые волосатые киски порно всех стран и на...</td>\n",
       "      <td>1.0</td>\n",
       "      <td>0.0</td>\n",
       "      <td>1.0</td>\n",
       "      <td>0.090557</td>\n",
       "      <td>0.000000</td>\n",
       "    </tr>\n",
       "    <tr>\n",
       "      <th>4</th>\n",
       "      <td>135313</td>\n",
       "      <td>2gis.ru</td>\n",
       "      <td></td>\n",
       "      <td>0.0</td>\n",
       "      <td>1.0</td>\n",
       "      <td>75.0</td>\n",
       "      <td>0.000000</td>\n",
       "      <td>1.000000</td>\n",
       "    </tr>\n",
       "  </tbody>\n",
       "</table>\n",
       "</div>"
      ],
      "text/plain": [
       "       id                url  \\\n",
       "0  135309  www.kommersant.ru   \n",
       "1  135310    urexpert.online   \n",
       "2  135311      imperimeha.ru   \n",
       "3  135312  national-porn.com   \n",
       "4  135313            2gis.ru   \n",
       "\n",
       "                                               title  pos_ratio  neg_ratio  \\\n",
       "0  шестой кассационный суд в самаре начнет работу...        0.0        1.0   \n",
       "1  что такое индексация алиментов кем и в каких с...        0.0        1.0   \n",
       "2                      женщинам  империя меха  part         0.0        0.0   \n",
       "3  небритые волосатые киски порно всех стран и на...        1.0        0.0   \n",
       "4                                                           0.0        1.0   \n",
       "\n",
       "    num  pos_sigm  neg_sigm  \n",
       "0  10.0  0.000000  0.998762  \n",
       "1   6.0  0.000000  0.936621  \n",
       "2   0.0  0.000000  0.000000  \n",
       "3   1.0  0.090557  0.000000  \n",
       "4  75.0  0.000000  1.000000  "
      ]
     },
     "execution_count": 9,
     "metadata": {},
     "output_type": "execute_result"
    }
   ],
   "source": [
    "# Удаляем всё, что не буквы\n",
    "train_df_m['title'] = train_df_m['title'].str.replace('[^a-zA-Zа-яА-Я ]', '')\n",
    "test_df_m['title'] = test_df_m['title'].str.replace('[^a-zA-Zа-яА-Я ]', '')\n",
    "test_df_m.head()"
   ]
  },
  {
   "cell_type": "code",
   "execution_count": 11,
   "metadata": {},
   "outputs": [],
   "source": [
    "import pymorphy2\n",
    "\n",
    "# Лемматизируем\n",
    "lemmatizer = pymorphy2.MorphAnalyzer()\n",
    "\n",
    "lemmatizer_cache = {}\n",
    "def lem_text(text):\n",
    "    return ' '.join([lem_token(token) for token in text.split()])\n",
    "\n",
    "def lem_token(token):\n",
    "    if lemmatizer.word_is_known(token):\n",
    "        if token not in lemmatizer_cache:\n",
    "            lemmatizer_cache[token] = lemmatizer.parse(token)[0].normal_form\n",
    "        return lemmatizer_cache[token]\n",
    "    return token\n",
    "\n",
    "train_df_m['title'] = train_df_m['title'].apply(lem_text)\n",
    "test_df_m['title'] = test_df_m['title'].apply(lem_text)\n",
    "test_df_m.head()"
   ]
  },
  {
   "cell_type": "code",
   "execution_count": 13,
   "metadata": {},
   "outputs": [
    {
     "name": "stdout",
     "output_type": "stream",
     "text": [
      "(135309, 133457)\n",
      "(165378, 133457)\n"
     ]
    }
   ],
   "source": [
    "# Сделаем лучше tf-idf\n",
    "from sklearn.feature_extraction.text import TfidfVectorizer\n",
    "\n",
    "tfidf_vectorizer = TfidfVectorizer()\n",
    "train_titles_tfidf = tfidf_vectorizer.fit_transform(train_df_m['title'])\n",
    "test_titles_tfidf = tfidf_vectorizer.transform(test_df_m['title'])\n",
    "print(train_titles_tfidf.shape)\n",
    "print(test_titles_tfidf.shape)"
   ]
  },
  {
   "cell_type": "code",
   "execution_count": 14,
   "metadata": {},
   "outputs": [
    {
     "name": "stdout",
     "output_type": "stream",
     "text": [
      "(135309, 133459)\n",
      "(108247, 133459)\n"
     ]
    }
   ],
   "source": [
    "# Слепим данные\n",
    "from scipy.sparse import coo_matrix, hstack\n",
    "\n",
    "data_train = hstack([train_df_m.iloc[:,7:], train_titles_tfidf])\n",
    "print(data_train.shape)\n",
    "\n",
    "X_train, X_test, y_train, y_test = train_test_split(data_train, train_df_m['target'], test_size=0.2, random_state=42)\n",
    "#y_train = y_train.astype(int).values\n",
    "#y_test = y_test.astype(int).values\n",
    "print(X_train.shape)"
   ]
  },
  {
   "cell_type": "code",
   "execution_count": 15,
   "metadata": {},
   "outputs": [
    {
     "data": {
      "text/plain": [
       "0.9598399753808278"
      ]
     },
     "execution_count": 15,
     "metadata": {},
     "output_type": "execute_result"
    }
   ],
   "source": [
    "# Вот и чего б не обучить регрессию?\n",
    "log_clf = LogisticRegression(random_state=42, max_iter=100).fit(X_train, y_train)\n",
    "y_pred = log_clf.predict(X_test)\n",
    "f1_score(y_test, y_pred)\n"
   ]
  },
  {
   "cell_type": "code",
   "execution_count": 16,
   "metadata": {},
   "outputs": [
    {
     "data": {
      "text/plain": [
       "0.9902358419708577"
      ]
     },
     "execution_count": 16,
     "metadata": {},
     "output_type": "execute_result"
    }
   ],
   "source": [
    "# А теперь лесок\n",
    "rf_clf = RandomForestClassifier(random_state=42, n_estimators=10, n_jobs = 2).fit(X_train, y_train)\n",
    "y_pred = rf_clf.predict(X_test)\n",
    "f1_score(y_test, y_pred)"
   ]
  },
  {
   "cell_type": "code",
   "execution_count": 18,
   "metadata": {},
   "outputs": [
    {
     "data": {
      "text/plain": [
       "0.9900811541929666"
      ]
     },
     "execution_count": 18,
     "metadata": {},
     "output_type": "execute_result"
    }
   ],
   "source": [
    "# А теперь лесок с добавленными туда предсказаниями регрессии\n",
    "train_log_prob = log_clf.predict_proba(X_train)[:,1]\n",
    "test_log_prob = log_clf.predict_proba(X_test)[:,1]\n",
    "X_train_log = hstack([X_train, np.transpose([train_log_prob])])\n",
    "X_test_log = hstack([X_test, np.transpose([test_log_prob])])\n",
    "rf_log_clf = RandomForestClassifier(random_state=42, n_estimators=10, n_jobs = 2).fit(X_train_log, y_train)\n",
    "y_pred = rf_log_clf.predict(X_test_log)\n",
    "f1_score(y_test, y_pred)"
   ]
  },
  {
   "cell_type": "code",
   "execution_count": null,
   "metadata": {},
   "outputs": [],
   "source": [
    "# Оставляем столько нулей, сколько есть единиц\n",
    "def balance_data(data):\n",
    "    true_idxs = np.arange(data.shape[0]) [data['target'] == True]\n",
    "    false_idxs = np.arange(data.shape[0]) [data['target'] == False]\n",
    "    print(true_idxs.size)\n",
    "    random_false_idxs = np.random.choice(false_idxs, true_idxs.size, replace=False)\n",
    "    temp = np.concatenate([true_idxs, random_false_idxs])\n",
    "    random_idxs = np.random.choice(temp, temp.size, replace=False)\n",
    "    return data.iloc[random_idxs]"
   ]
  },
  {
   "cell_type": "code",
   "execution_count": null,
   "metadata": {},
   "outputs": [],
   "source": [
    "data_balanced = balance_data(data)\n",
    "data_balanced['target'].value_counts()"
   ]
  },
  {
   "cell_type": "code",
   "execution_count": null,
   "metadata": {},
   "outputs": [],
   "source": [
    "from sklearn.metrics import f1_score\n",
    "X_train = train_df[\"title\"].values\n",
    "X_test = test_df[\"title\"].values\n",
    "y_train = train_df[\"target\"].astype(int).values"
   ]
  }
 ],
 "metadata": {
  "kernelspec": {
   "display_name": "Python 3",
   "language": "python",
   "name": "python3"
  },
  "language_info": {
   "codemirror_mode": {
    "name": "ipython",
    "version": 3
   },
   "file_extension": ".py",
   "mimetype": "text/x-python",
   "name": "python",
   "nbconvert_exporter": "python",
   "pygments_lexer": "ipython3",
   "version": "3.8.2"
  }
 },
 "nbformat": 4,
 "nbformat_minor": 4
}
