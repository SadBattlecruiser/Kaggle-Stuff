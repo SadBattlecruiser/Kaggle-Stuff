{
 "cells": [
  {
   "cell_type": "code",
   "execution_count": 1,
   "metadata": {},
   "outputs": [],
   "source": [
    "import numpy as np\n",
    "import pandas as pd\n",
    "import seaborn as sn\n",
    "import matplotlib.pyplot as plt\n",
    "\n",
    "from sklearn.ensemble import RandomForestClassifier, AdaBoostClassifier\n",
    "from sklearn.linear_model import LogisticRegression\n",
    "from sklearn.naive_bayes import GaussianNB\n",
    "from sklearn.model_selection import KFold\n",
    "from sklearn.model_selection import train_test_split\n",
    "from sklearn.metrics import roc_auc_score"
   ]
  },
  {
   "cell_type": "code",
   "execution_count": 5,
   "metadata": {},
   "outputs": [
    {
     "name": "stdout",
     "output_type": "stream",
     "text": [
      "FEATURE_0        FEATURE_0\n",
      "FEATURE_1        FEATURE_1\n",
      "FEATURE_2        FEATURE_2\n",
      "FEATURE_3        FEATURE_3\n",
      "FEATURE_4        FEATURE_4\n",
      "                  ...     \n",
      "FEATURE_255    FEATURE_255\n",
      "FEATURE_256    FEATURE_256\n",
      "FEATURE_257    FEATURE_257\n",
      "FEATURE_258    FEATURE_258\n",
      "FEATURE_259    FEATURE_259\n",
      "Length: 260, dtype: object\n"
     ]
    }
   ],
   "source": [
    "data_train = pd.read_csv('C:\\\\Study\\\\Kaggle-MegaFon-MGTU\\\\contest_train_binary.csv')\n",
    "target_train = data_train['TARGET']\n",
    "del data_train['TARGET']\n",
    "del data_train['ID']\n",
    "data_test = pd.read_csv('C:\\\\Study\\\\Kaggle-MegaFon-MGTU\\\\contest_test.csv')\n",
    "del data_test['ID']\n",
    "# Для удобства имена всех фичей\n",
    "temp = []\n",
    "for i in data_test.columns:\n",
    "    temp.append(i)\n",
    "    #print(i)\n",
    "names = pd.Series(temp, index=temp)\n",
    "print(names)"
   ]
  },
  {
   "cell_type": "code",
   "execution_count": null,
   "metadata": {},
   "outputs": [],
   "source": []
  }
 ],
 "metadata": {
  "kernelspec": {
   "display_name": "Python 3",
   "language": "python",
   "name": "python3"
  },
  "language_info": {
   "codemirror_mode": {
    "name": "ipython",
    "version": 3
   },
   "file_extension": ".py",
   "mimetype": "text/x-python",
   "name": "python",
   "nbconvert_exporter": "python",
   "pygments_lexer": "ipython3",
   "version": "3.7.2"
  }
 },
 "nbformat": 4,
 "nbformat_minor": 4
}
